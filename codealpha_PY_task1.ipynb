{
  "nbformat": 4,
  "nbformat_minor": 0,
  "metadata": {
    "colab": {
      "provenance": []
    },
    "kernelspec": {
      "name": "python3",
      "display_name": "Python 3"
    },
    "language_info": {
      "name": "python"
    }
  },
  "cells": [
    {
      "cell_type": "code",
      "execution_count": null,
      "metadata": {
        "colab": {
          "base_uri": "https://localhost:8080/"
        },
        "id": "a5AJgGb_aXws",
        "outputId": "2ff8b23e-367a-4380-9e54-e7ddfb97cf59"
      },
      "outputs": [
        {
          "output_type": "stream",
          "name": "stdout",
          "text": [
            "TOTAL NO OF THE SEQUENCE IS: 7\n",
            "1st NO OF THE SEQUENCE IS: 1\n",
            "2nd NO OF THE SEQUENCE IS: 2\n",
            "The total length of the sequence entered by YOU is 7.\n",
            "1st number entered by YOU is 1.\n",
            "2nd number entered by YOU is 2.\n",
            "1 2 3 5 8 13 21 "
          ]
        }
      ],
      "source": [
        "# Get inputs from the user\n",
        "n = int(input(\"TOTAL NO OF THE SEQUENCE IS: \"))  # Take input for the total length of the sequence\n",
        "a = int(input(\"1st NO OF THE SEQUENCE IS: \"))    # Input the first number\n",
        "b = int(input(\"2nd NO OF THE SEQUENCE IS: \"))    # Input the second number\n",
        "\n",
        "def fib_sequence(n, a, b):\n",
        "    print(f\"The total length of the sequence entered by YOU is {n}.\")    # we use f-string to embed no in string\n",
        "    print(f\"1st number entered by YOU is {a}.\")\n",
        "    print(f\"2nd number entered by YOU is {b}.\")\n",
        "\n",
        "    # Print the first two numbers of the sequence\n",
        "    print(a, b, end=\" \")\n",
        "\n",
        "    # Generate and print the rest of the sequence\n",
        "    for i in range(3, n + 1):  # Start from the 3rd term up to n terms\n",
        "        sum = a + b            # Sum of the last two numbers\n",
        "        print(sum, end=\" \")    # Print the next number in the sequence and goes to new line here  this (end=\"\") helps not to go to a new line\n",
        "        a = b                  # Update a to the previous b\n",
        "        b = sum                # Update b to the current sum\n",
        "\n",
        "# Call the function with the input values\n",
        "fib_sequence(n, a, b)\n"
      ]
    },
    {
      "cell_type": "markdown",
      "source": [
        "TASK 1\n",
        "FIBONACCI GENERATOR\n",
        "The Fibonacci series is a sequence where each number is\n",
        "the sum of the two preceding numbers, defined by a\n",
        "mathematical recurrence relationship"
      ],
      "metadata": {
        "id": "E4MQ9KEDayrc"
      }
    },
    {
      "cell_type": "code",
      "source": [],
      "metadata": {
        "id": "4MJZYbObhmlr"
      },
      "execution_count": null,
      "outputs": []
    }
  ]
}